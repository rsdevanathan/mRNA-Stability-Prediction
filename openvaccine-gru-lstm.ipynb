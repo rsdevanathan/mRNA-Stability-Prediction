{
 "cells": [
  {
   "cell_type": "code",
   "execution_count": 6,
   "metadata": {
    "_cell_guid": "79c7e3d0-c299-4dcb-8224-4455121ee9b0",
    "_kg_hide-input": true,
    "_uuid": "d629ff2d2480ee46fbb7e2d37f6b5fab8052498a",
    "id": "AGOkGNm7ZWbq"
   },
   "outputs": [
    {
     "name": "stderr",
     "output_type": "stream",
     "text": [
      "Using TensorFlow backend.\n"
     ]
    }
   ],
   "source": [
    "import warnings\n",
    "warnings.filterwarnings('ignore')\n",
    "\n",
    "import pandas as pd, numpy as np, seaborn as sns\n",
    "import math, json, os, random\n",
    "from matplotlib import pyplot as plt\n",
    "from tqdm import tqdm\n",
    "\n",
    "import tensorflow as tf\n",
    "#import tensorflow_addons as tfa\n",
    "import keras.backend as K\n",
    "\n",
    "from sklearn.model_selection import KFold, StratifiedKFold, GroupKFold\n",
    "from sklearn.cluster import KMeans"
   ]
  },
  {
   "cell_type": "code",
   "execution_count": 7,
   "metadata": {
    "_kg_hide-input": true,
    "id": "C63VXtzMZWbs"
   },
   "outputs": [
    {
     "ename": "AttributeError",
     "evalue": "module 'tensorflow._api.v1.random' has no attribute 'set_seed'",
     "output_type": "error",
     "traceback": [
      "\u001b[1;31m---------------------------------------------------------------------------\u001b[0m",
      "\u001b[1;31mAttributeError\u001b[0m                            Traceback (most recent call last)",
      "\u001b[1;32m<ipython-input-7-eab9ed897995>\u001b[0m in \u001b[0;36m<module>\u001b[1;34m\u001b[0m\n\u001b[0;32m      5\u001b[0m     \u001b[0mrandom\u001b[0m\u001b[1;33m.\u001b[0m\u001b[0mseed\u001b[0m\u001b[1;33m(\u001b[0m\u001b[0mseed\u001b[0m\u001b[1;33m)\u001b[0m\u001b[1;33m\u001b[0m\u001b[1;33m\u001b[0m\u001b[0m\n\u001b[0;32m      6\u001b[0m \u001b[1;33m\u001b[0m\u001b[0m\n\u001b[1;32m----> 7\u001b[1;33m \u001b[0mseed_everything\u001b[0m\u001b[1;33m(\u001b[0m\u001b[1;33m)\u001b[0m\u001b[1;33m\u001b[0m\u001b[1;33m\u001b[0m\u001b[0m\n\u001b[0m",
      "\u001b[1;32m<ipython-input-7-eab9ed897995>\u001b[0m in \u001b[0;36mseed_everything\u001b[1;34m(seed)\u001b[0m\n\u001b[0;32m      1\u001b[0m \u001b[1;32mdef\u001b[0m \u001b[0mseed_everything\u001b[0m\u001b[1;33m(\u001b[0m\u001b[0mseed\u001b[0m \u001b[1;33m=\u001b[0m \u001b[1;36m34\u001b[0m\u001b[1;33m)\u001b[0m\u001b[1;33m:\u001b[0m\u001b[1;33m\u001b[0m\u001b[1;33m\u001b[0m\u001b[0m\n\u001b[0;32m      2\u001b[0m     \u001b[0mos\u001b[0m\u001b[1;33m.\u001b[0m\u001b[0menviron\u001b[0m\u001b[1;33m[\u001b[0m\u001b[1;34m'PYTHONHASHSEED'\u001b[0m\u001b[1;33m]\u001b[0m\u001b[1;33m=\u001b[0m\u001b[0mstr\u001b[0m\u001b[1;33m(\u001b[0m\u001b[0mseed\u001b[0m\u001b[1;33m)\u001b[0m\u001b[1;33m\u001b[0m\u001b[1;33m\u001b[0m\u001b[0m\n\u001b[1;32m----> 3\u001b[1;33m     \u001b[0mtf\u001b[0m\u001b[1;33m.\u001b[0m\u001b[0mrandom\u001b[0m\u001b[1;33m.\u001b[0m\u001b[0mset_seed\u001b[0m\u001b[1;33m(\u001b[0m\u001b[0mseed\u001b[0m\u001b[1;33m)\u001b[0m\u001b[1;33m\u001b[0m\u001b[1;33m\u001b[0m\u001b[0m\n\u001b[0m\u001b[0;32m      4\u001b[0m     \u001b[0mnp\u001b[0m\u001b[1;33m.\u001b[0m\u001b[0mrandom\u001b[0m\u001b[1;33m.\u001b[0m\u001b[0mseed\u001b[0m\u001b[1;33m(\u001b[0m\u001b[0mseed\u001b[0m\u001b[1;33m)\u001b[0m\u001b[1;33m\u001b[0m\u001b[1;33m\u001b[0m\u001b[0m\n\u001b[0;32m      5\u001b[0m     \u001b[0mrandom\u001b[0m\u001b[1;33m.\u001b[0m\u001b[0mseed\u001b[0m\u001b[1;33m(\u001b[0m\u001b[0mseed\u001b[0m\u001b[1;33m)\u001b[0m\u001b[1;33m\u001b[0m\u001b[1;33m\u001b[0m\u001b[0m\n",
      "\u001b[1;32mc:\\program files\\python37\\lib\\site-packages\\tensorflow\\python\\util\\deprecation_wrapper.py\u001b[0m in \u001b[0;36m__getattr__\u001b[1;34m(self, name)\u001b[0m\n\u001b[0;32m    104\u001b[0m     \u001b[1;32mif\u001b[0m \u001b[0mname\u001b[0m\u001b[1;33m.\u001b[0m\u001b[0mstartswith\u001b[0m\u001b[1;33m(\u001b[0m\u001b[1;34m'_dw_'\u001b[0m\u001b[1;33m)\u001b[0m\u001b[1;33m:\u001b[0m\u001b[1;33m\u001b[0m\u001b[1;33m\u001b[0m\u001b[0m\n\u001b[0;32m    105\u001b[0m       \u001b[1;32mraise\u001b[0m \u001b[0mAttributeError\u001b[0m\u001b[1;33m(\u001b[0m\u001b[1;34m'Accessing local variables before they are created.'\u001b[0m\u001b[1;33m)\u001b[0m\u001b[1;33m\u001b[0m\u001b[1;33m\u001b[0m\u001b[0m\n\u001b[1;32m--> 106\u001b[1;33m     \u001b[0mattr\u001b[0m \u001b[1;33m=\u001b[0m \u001b[0mgetattr\u001b[0m\u001b[1;33m(\u001b[0m\u001b[0mself\u001b[0m\u001b[1;33m.\u001b[0m\u001b[0m_dw_wrapped_module\u001b[0m\u001b[1;33m,\u001b[0m \u001b[0mname\u001b[0m\u001b[1;33m)\u001b[0m\u001b[1;33m\u001b[0m\u001b[1;33m\u001b[0m\u001b[0m\n\u001b[0m\u001b[0;32m    107\u001b[0m     if (self._dw_warning_count < _PER_MODULE_WARNING_LIMIT and\n\u001b[0;32m    108\u001b[0m         name not in self._dw_deprecated_printed):\n",
      "\u001b[1;31mAttributeError\u001b[0m: module 'tensorflow._api.v1.random' has no attribute 'set_seed'"
     ]
    }
   ],
   "source": [
    "def seed_everything(seed = 34):\n",
    "    os.environ['PYTHONHASHSEED']=str(seed)\n",
    "    tf.random.set_seed(seed)\n",
    "    np.random.seed(seed)\n",
    "    random.seed(seed)\n",
    "    \n",
    "seed_everything()"
   ]
  },
  {
   "cell_type": "markdown",
   "metadata": {
    "id": "5I2kdnLnZWbv"
   },
   "source": [
    "# Competition Overview\n",
    "\n",
    "**In this [new competition](https://www.kaggle.com/c/stanford-covid-vaccine/overview) we are helping to fight against the worldwide pandemic COVID-19. mRNA vaccines are the fastest vaccine candidates to treat COVID-19 but they currently facing several limitations. In particular, it is a challenge to design stable messenger RNA molecules. Typical vaccines are packaged in syringes and shipped under refrigeration around the world, but that is not possible for mRNA vaccines (currently).**\n",
    "\n",
    "**Researches have noticed that RNA molecules tend to spontaneously degrade, which is highly problematic because a single cut can render mRNA vaccines useless. Not much is known about which part of the backbone of a particular RNA is most susceptible to being damaged.**\n",
    "\n",
    "**Without this knowledge, the current mRNA vaccines are shopped under intense refrigeration and are unlikely to reach enough humans unless they can be stabilized. This is our task as Kagglers: we must create a model to predict the most likely degradation rates at each base of an RNA molecule.**\n",
    "\n",
    "**We are given a subset of an Eterna dataset comprised of over 3000 RNA molecules and their degradation rates at each position. Our models are then tested on the new generation of RNA sequences that were just created by Eterna players for COVID-19 mRNA vaccines**\n",
    "\n",
    "**Before we get started, please check out [Xhlulu](https://www.kaggle.com/xhlulu)'s notebook [here](https://www.kaggle.com/xhlulu/openvaccine-simple-gru-model) as this one is based on it: I just added comments, made minor code changes, an LSTM, and fold training:**"
   ]
  },
  {
   "cell_type": "code",
   "execution_count": 8,
   "metadata": {
    "id": "rfGzcj1oZWbv"
   },
   "outputs": [],
   "source": [
    "#get comp data\n",
    "train = pd.read_json('train.json', lines=True)\n",
    "test = pd.read_json('test.json', lines=True)\n",
    "sample_sub = pd.read_csv('sample_submission.csv')"
   ]
  },
  {
   "cell_type": "markdown",
   "metadata": {
    "id": "dGnBJ9cyZWbx"
   },
   "source": [
    "# Brief EDA\n",
    "\n",
    "**From the data [description tab](https://www.kaggle.com/c/stanford-covid-vaccine/data), we must predict multiple ground truths in this competition, 5 to be exact. While the submission requires all 5, only 3 are scored: `reactivity`, `deg_Mg_pH10` and `deg_Mg_50C`. It might be interesting to see how performance differs when training for all 5 predictors vs. just the 3 that are scored.**\n",
    "\n",
    "**The training features we are given are as follows:**\n",
    "\n",
    "* **id** - An arbitrary identifier for each sample.\n",
    "* **seq_scored** - (68 in Train and Public Test, 91 in Private Test) Integer value denoting the number of positions used in scoring with predicted values. This should match the length of `reactivity`, `deg_*` and `*_error_*` columns. Note that molecules used for the Private Test will be longer than those in the Train and Public Test data, so the size of this vector will be different.\n",
    "* **seq_length** - (107 in Train and Public Test, 130 in Private Test) Integer values, denotes the length of `sequence`. Note that molecules used for the Private Test will be longer than those in the Train and Public Test data, so the size of this vector will be different.\n",
    "* **sequence** - (1x107 string in Train and Public Test, 130 in Private Test) Describes the RNA sequence, a combination of `A`, `G`, `U`, and `C` for each sample. Should be 107 characters long, and the first 68 bases should correspond to the 68 positions specified in `seq_scored` (note: indexed starting at 0).\n",
    "* **structure** - (1x107 string in Train and Public Test, 130 in Private Test) An array of `(`, `)`, and `.` characters that describe whether a base is estimated to be paired or unpaired. Paired bases are denoted by opening and closing parentheses e.g. (....) means that base 0 is paired to base 5, and bases 1-4 are unpaired.\n",
    "* **reactivity** - (1x68 vector in Train and Public Test, 1x91 in Private Test) An array of floating point numbers, should have the same length as `seq_scored`. These numbers are reactivity values for the first 68 bases as denoted in `sequence`, and used to determine the likely secondary structure of the RNA sample.\n",
    "* **deg_pH10** - (1x68 vector in Train and Public Test, 1x91 in Private Test) An array of floating point numbers, should have the same length as `seq_scored`. These numbers are reactivity values for the first 68 bases as denoted in `sequence`, and used to determine the likelihood of degradation at the base/linkage after incubating without magnesium at high pH (pH 10).\n",
    "* **deg_Mg_pH10** - (1x68 vector in Train and Public Test, 1x91 in Private Test) An array of floating point numbers, should have the same length as `seq_scored`. These numbers are reactivity values for the first 68 bases as denoted in `sequence`, and used to determine the likelihood of degradation at the base/linkage after incubating with magnesium in high pH (pH 10).\n",
    "* **deg_50C** - (1x68 vector in Train and Public Test, 1x91 in Private Test) An array of floating point numbers, should have the same length as `seq_scored`. These numbers are reactivity values for the first 68 bases as denoted in `sequence`, and used to determine the likelihood of degradation at the base/linkage after incubating without magnesium at high temperature (50 degrees Celsius).\n",
    "* **deg_Mg_50C** - (1x68 vector in Train and Public Test, 1x91 in Private Test) An array of floating point numbers, should have the same length as `seq_scored`. These numbers are reactivity values for the first 68 bases as denoted in `sequence`, and used to determine the likelihood of degradation at the base/linkage after incubating with magnesium at high temperature (50 degrees Celsius).\n",
    "* **`*_error_*`** - An array of floating point numbers, should have the same length as the corresponding `reactivity` or `deg_*` columns, calculated errors in experimental values obtained in `reactivity` and `deg_*` columns.\n",
    "* **predicted_loop_type** - (1x107 string) Describes the structural context (also referred to as 'loop type')of each character in `sequence`. Loop types assigned by bpRNA from Vienna RNAfold 2 structure. From the bpRNA_documentation: S: paired \"Stem\" M: Multiloop I: Internal loop B: Bulge H: Hairpin loop E: dangling End X: eXternal loop"
   ]
  },
  {
   "cell_type": "code",
   "execution_count": null,
   "metadata": {
    "id": "5AOIGGgFZWby",
    "outputId": "c51e244a-5ef7-4f27-8540-065dc2646a82"
   },
   "outputs": [],
   "source": [
    "print(train.columns)"
   ]
  },
  {
   "cell_type": "markdown",
   "metadata": {
    "id": "6plkrgtwZWb0"
   },
   "source": [
    "**It seems we also have a `signal_to_noise` and a `SN_filter` column. These columns control the 'quality' of samples, and as such are important training hyperparameters. We will explore them shortly:**"
   ]
  },
  {
   "cell_type": "code",
   "execution_count": null,
   "metadata": {
    "id": "E6kDkOE6ZWb0",
    "outputId": "0e9e7df4-c5d9-43c9-b3f7-eae89f92a10f"
   },
   "outputs": [],
   "source": [
    "#sneak peak\n",
    "print(train.shape)\n",
    "if ~train.isnull().values.any(): print('No missing values')\n",
    "train.head()"
   ]
  },
  {
   "cell_type": "code",
   "execution_count": null,
   "metadata": {
    "id": "qHVYEz8YZWb4",
    "outputId": "78784abd-41ec-411f-f32f-619db395facf"
   },
   "outputs": [],
   "source": [
    "#sneak peak\n",
    "print(test.shape)\n",
    "if ~test.isnull().values.any(): print('No missing values')\n",
    "test.head()"
   ]
  },
  {
   "cell_type": "code",
   "execution_count": null,
   "metadata": {
    "id": "_2DQsBzaZWb6",
    "outputId": "96180011-ac96-48f6-dabc-2a4874950e39"
   },
   "outputs": [],
   "source": [
    "#sneak peak\n",
    "print(sample_sub.shape)\n",
    "if ~sample_sub.isnull().values.any(): print('No missing values')\n",
    "sample_sub.head()"
   ]
  },
  {
   "cell_type": "markdown",
   "metadata": {
    "id": "YqgoShmPZWb9"
   },
   "source": [
    "**Now we explore `signal_to_noise` and `SN_filter` distributions. As per the data tab of this competition the samples in `test.json` have been filtered in the following way:**\n",
    "\n",
    "1. Minimum value across all 5 conditions must be greater than -0.5.\n",
    "2. Mean signal/noise across all 5 conditions must be greater than 1.0. [Signal/noise is defined as mean( measurement value over 68 nts )/mean( statistical error in measurement value over 68 nts)]\n",
    "3. To help ensure sequence diversity, the resulting sequences were clustered into clusters with less than 50% sequence similarity, and the 629 test set sequences were chosen from clusters with 3 or fewer members. That is, any sequence in the test set should be sequence similar to at most 2 other sequences."
   ]
  },
  {
   "cell_type": "code",
   "execution_count": null,
   "metadata": {
    "id": "55qG4EZ8ZWb9",
    "outputId": "bcaadccd-d703-4cce-d114-caa28dc276a1"
   },
   "outputs": [],
   "source": [
    "fig, ax = plt.subplots(1, 2, figsize=(15, 5))\n",
    "sns.kdeplot(train['signal_to_noise'], shade=True, ax=ax[0])\n",
    "sns.countplot(train['SN_filter'], ax=ax[1])\n",
    "\n",
    "ax[0].set_title('Signal/Noise Distribution')\n",
    "ax[1].set_title('Signal/Noise Filter Distribution');"
   ]
  },
  {
   "cell_type": "code",
   "execution_count": null,
   "metadata": {
    "id": "ZuE7g7nIZWb_",
    "outputId": "1489b05b-96ab-4bad-8b57-451bf8dd748d"
   },
   "outputs": [],
   "source": [
    "print(f\"Samples with signal_to_noise greater than 1: {len(train.loc[(train['signal_to_noise'] > 1 )])}\")\n",
    "print(f\"Samples with SN_filter = 1: {len(train.loc[(train['SN_filter'] == 1 )])}\")\n",
    "print(f\"Samples with signal_to_noise greater than 1, but SN_filter == 0: {len(train.loc[(train['signal_to_noise'] > 1) & (train['SN_filter'] == 0)])}\")"
   ]
  },
  {
   "cell_type": "markdown",
   "metadata": {
    "id": "c-1bJaIOZWcB"
   },
   "source": [
    "**Update: as per [this discussion post](https://www.kaggle.com/c/stanford-covid-vaccine/discussion/183992), both public *and* private test datasets are now filtered with the same 3 above conditions.**"
   ]
  },
  {
   "cell_type": "markdown",
   "metadata": {
    "id": "7LjnzvWFZWcB"
   },
   "source": [
    "# Feature Engineering\n",
    "\n",
    "**Check out [Tito](https://www.kaggle.com/its7171)'s kernel [here](https://www.kaggle.com/its7171/gru-lstm-with-feature-engineering-and-augmentation) for the feature engineering code below. The `bpps` folder contains Base Pairing Probabilities matrices for each sequence. These matrices give the probability that each pair of nucleotides in the RNA forms a base pair. Each matrix is a symmetric square matrix the same length as the sequence. For a complete EDA of the `bpps` folder, see this notebook [here](https://www.kaggle.com/hidehisaarai1213/openvaccine-checkout-bpps?scriptVersionId=42460013).**"
   ]
  },
  {
   "cell_type": "code",
   "execution_count": null,
   "metadata": {},
   "outputs": [],
   "source": [
    "def read_bpps_sum(df):\n",
    "    bpps_arr = []\n",
    "    for mol_id in df.id.to_list():\n",
    "        bpps_arr.append(np.load(f\"../input/stanford-covid-vaccine/bpps/{mol_id}.npy\").sum(axis=1))\n",
    "    return bpps_arr\n",
    "\n",
    "def read_bpps_max(df):\n",
    "    bpps_arr = []\n",
    "    for mol_id in df.id.to_list():\n",
    "        bpps_arr.append(np.load(f\"../input/stanford-covid-vaccine/bpps/{mol_id}.npy\").max(axis=1))\n",
    "    return bpps_arr\n",
    "\n",
    "def read_bpps_nb(df):\n",
    "    #mean and std from https://www.kaggle.com/symyksr/openvaccine-deepergcn \n",
    "    bpps_nb_mean = 0.077522\n",
    "    bpps_nb_std = 0.08914\n",
    "    bpps_arr = []\n",
    "    for mol_id in df.id.to_list():\n",
    "        bpps = np.load(f\"../input/stanford-covid-vaccine/bpps/{mol_id}.npy\")\n",
    "        bpps_nb = (bpps > 0).sum(axis=0) / bpps.shape[0]\n",
    "        bpps_nb = (bpps_nb - bpps_nb_mean) / bpps_nb_std\n",
    "        bpps_arr.append(bpps_nb)\n",
    "    return bpps_arr \n",
    "\n",
    "train['bpps_sum'] = read_bpps_sum(train)\n",
    "test['bpps_sum'] = read_bpps_sum(test)\n",
    "train['bpps_max'] = read_bpps_max(train)\n",
    "test['bpps_max'] = read_bpps_max(test)\n",
    "train['bpps_nb'] = read_bpps_nb(train)\n",
    "test['bpps_nb'] = read_bpps_nb(test)\n",
    "\n",
    "#sanity check\n",
    "train.head()"
   ]
  },
  {
   "cell_type": "markdown",
   "metadata": {
    "id": "o3xl6zbzZWcE"
   },
   "source": [
    "**Let's explore these newly engineered features to see if they can be trusted (i.e., are their distributions similar across the training set and the two testing sets?)**"
   ]
  },
  {
   "cell_type": "code",
   "execution_count": null,
   "metadata": {
    "_kg_hide-input": true,
    "id": "1jgbRQTFZWcE",
    "outputId": "40f73c61-1630-49b8-c022-6e9317f88870"
   },
   "outputs": [],
   "source": [
    "fig, ax = plt.subplots(3, figsize=(15, 10))\n",
    "sns.kdeplot(np.array(train['bpps_max'].to_list()).reshape(-1),\n",
    "            color=\"Blue\", ax=ax[0], label='Train')\n",
    "sns.kdeplot(np.array(test[test['seq_length'] == 107]['bpps_max'].to_list()).reshape(-1),\n",
    "            color=\"Red\", ax=ax[0], label='Public test')\n",
    "sns.kdeplot(np.array(test[test['seq_length'] == 130]['bpps_max'].to_list()).reshape(-1),\n",
    "            color=\"Green\", ax=ax[0], label='Private test')\n",
    "sns.kdeplot(np.array(train['bpps_sum'].to_list()).reshape(-1),\n",
    "            color=\"Blue\", ax=ax[1], label='Train')\n",
    "sns.kdeplot(np.array(test[test['seq_length'] == 107]['bpps_sum'].to_list()).reshape(-1),\n",
    "            color=\"Red\", ax=ax[1], label='Public test')\n",
    "sns.kdeplot(np.array(test[test['seq_length'] == 130]['bpps_sum'].to_list()).reshape(-1),\n",
    "            color=\"Green\", ax=ax[1], label='Private test')\n",
    "sns.kdeplot(np.array(train['bpps_nb'].to_list()).reshape(-1),\n",
    "            color=\"Blue\", ax=ax[2], label='Train')\n",
    "sns.kdeplot(np.array(test[test['seq_length'] == 107]['bpps_nb'].to_list()).reshape(-1),\n",
    "            color=\"Red\", ax=ax[2], label='Public test')\n",
    "sns.kdeplot(np.array(test[test['seq_length'] == 130]['bpps_nb'].to_list()).reshape(-1),\n",
    "            color=\"Green\", ax=ax[2], label='Private test')\n",
    "\n",
    "ax[0].set_title('Distribution of bpps_max')\n",
    "ax[1].set_title('Distribution of bpps_sum')\n",
    "ax[2].set_title('Distribution of bpps_nb')\n",
    "plt.tight_layout();"
   ]
  },
  {
   "cell_type": "markdown",
   "metadata": {
    "id": "3-1l4n9jZWcG"
   },
   "source": [
    "**Looks like `bpps_max` and `bpps_sum` are okay to use, but there is a large difference in the distribution of `bpps_nb` in public vs. private test sets. So even if it improves our LB (or local CV scores), we do not know if it will help with the private test score. For this reason, I will not include it in training.**"
   ]
  },
  {
   "cell_type": "markdown",
   "metadata": {
    "id": "8nhz2aCKZWcG"
   },
   "source": [
    "# Augmentation\n",
    "\n",
    "**Augmentation code can be found in [Tito](https://www.kaggle.com/its7171)'s notebook [here](https://www.kaggle.com/its7171/how-to-generate-augmentation-data). It can be used to generate augmented samples that you can use for training augmentation and test time augmentation (TTA). We are essentially generating new `structures` and `predicted_loop_types` for each `sequence` using the software that was originally used to create them (ARNIE, ViennaRNA, and bpRNA).**"
   ]
  },
  {
   "cell_type": "code",
   "execution_count": null,
   "metadata": {
    "id": "efjlRaOaZWcH"
   },
   "outputs": [],
   "source": [
    "AUGMENT=True"
   ]
  },
  {
   "cell_type": "code",
   "execution_count": null,
   "metadata": {
    "id": "mFTg8fxrZWcI",
    "outputId": "9bb7276b-4424-4228-df90-756845a110c4"
   },
   "outputs": [],
   "source": [
    "aug_df = pd.read_csv('../input/openvaccineaugmented/aug_data_n2.csv')\n",
    "print(aug_df.shape)\n",
    "aug_df.head()"
   ]
  },
  {
   "cell_type": "code",
   "execution_count": null,
   "metadata": {
    "id": "8hzMlxIkZWcL"
   },
   "outputs": [],
   "source": [
    "def aug_data(df):\n",
    "    target_df = df.copy()\n",
    "    new_df = aug_df[aug_df['id'].isin(target_df['id'])]\n",
    "                         \n",
    "    del target_df['structure']\n",
    "    del target_df['predicted_loop_type']\n",
    "    new_df = new_df.merge(target_df, on=['id','sequence'], how='left')\n",
    "\n",
    "    df['cnt'] = df['id'].map(new_df[['id','cnt']].set_index('id').to_dict()['cnt'])\n",
    "    df['log_gamma'] = 100\n",
    "    df['score'] = 1.0\n",
    "    df = df.append(new_df[df.columns])\n",
    "    return df"
   ]
  },
  {
   "cell_type": "code",
   "execution_count": null,
   "metadata": {
    "id": "H5RdaXllZWcN",
    "outputId": "d162c3d7-ca7c-4192-f7d4-9c82cfbf6a1e"
   },
   "outputs": [],
   "source": [
    "print(f\"Samples in train before augmentation: {len(train)}\")\n",
    "print(f\"Samples in test before augmentation: {len(test)}\")\n",
    "\n",
    "if AUGMENT:\n",
    "    train = aug_data(train)\n",
    "    test = aug_data(test)\n",
    "\n",
    "print(f\"Samples in train after augmentation: {len(train)}\")\n",
    "print(f\"Samples in test after augmentation: {len(test)}\")\n",
    "\n",
    "print(f\"Unique sequences in train: {len(train['sequence'].unique())}\")\n",
    "print(f\"Unique sequences in test: {len(test['sequence'].unique())}\")"
   ]
  },
  {
   "cell_type": "markdown",
   "metadata": {
    "id": "-NB0YPXHZWcS"
   },
   "source": [
    "# Processing"
   ]
  },
  {
   "cell_type": "code",
   "execution_count": null,
   "metadata": {},
   "outputs": [],
   "source": [
    "DENOISE = False"
   ]
  },
  {
   "cell_type": "code",
   "execution_count": null,
   "metadata": {
    "id": "dSgcpFi8ZWcS"
   },
   "outputs": [],
   "source": [
    "target_cols = ['reactivity', 'deg_Mg_pH10', 'deg_pH10', 'deg_Mg_50C', 'deg_50C']"
   ]
  },
  {
   "cell_type": "code",
   "execution_count": null,
   "metadata": {
    "id": "RNS3XbGQZWcU"
   },
   "outputs": [],
   "source": [
    "token2int = {x:i for i, x in enumerate('().ACGUBEHIMSX')}"
   ]
  },
  {
   "cell_type": "code",
   "execution_count": null,
   "metadata": {
    "_kg_hide-input": false,
    "id": "007YBNJmZWcW"
   },
   "outputs": [],
   "source": [
    "def preprocess_inputs(df, cols=['sequence', 'structure', 'predicted_loop_type']):\n",
    "    base_fea = np.transpose(\n",
    "        np.array(\n",
    "            df[cols]\n",
    "            .applymap(lambda seq: [token2int[x] for x in seq])\n",
    "            .values\n",
    "            .tolist()\n",
    "        ),\n",
    "        (0, 2, 1)\n",
    "    )\n",
    "    bpps_sum_fea = np.array(df['bpps_sum'].to_list())[:,:,np.newaxis]\n",
    "    bpps_max_fea = np.array(df['bpps_max'].to_list())[:,:,np.newaxis]\n",
    "    return np.concatenate([base_fea,bpps_sum_fea,bpps_max_fea], 2)"
   ]
  },
  {
   "cell_type": "code",
   "execution_count": null,
   "metadata": {},
   "outputs": [],
   "source": [
    "if DENOISE:\n",
    "    train = train[train['signal_to_noise'] > .25]"
   ]
  },
  {
   "cell_type": "markdown",
   "metadata": {
    "id": "b4pkkjAmZWcY"
   },
   "source": [
    "# Model\n",
    "\n",
    "**The below RNN architecture is adapted from the one and only [Xhlulu](https://www.kaggle.com/xhlulu)'s notebook [here](https://www.kaggle.com/xhlulu/openvaccine-simple-gru-model). For his explanation of the model/procedure, see his discussion post [here](https://www.kaggle.com/c/stanford-covid-vaccine/discussion/182303). I have made minor tweaks to some parameters and added an LSTM to experiment with blending.**\n",
    "\n",
    "**Note that for submission, the output must be the same length as the input, which is 107 for `train.json` and `test.json` and 130 for the private test set. However, this is not true for training, so training prediction sequences only need to be 68 long**\n",
    "\n",
    "**So we actually build 3 different models: one for training, one for predicting public test, and one for predicting private test set, each with different sequence lengths and prediction lengths. Luckily, we only need to train one model, save its weights, and load these weights into the other models.**\n",
    "\n",
    "**The last thing to set is the size of the embedding layer. In the context of NLP, the input dimension size of an embedding layer is the size of the vocabulary, which in our case is `len(token2int)`. The output dimension is typically the length of the pre-trained vectors you are using, like the GloVe vectors or Word2Vec vectors, which we don't have in this case, so we are free to experiment with different sizes.**"
   ]
  },
  {
   "cell_type": "code",
   "execution_count": null,
   "metadata": {
    "id": "0a_WD1NAZWcY",
    "outputId": "32cbefce-20af-4579-c2bd-84333247ee63"
   },
   "outputs": [],
   "source": [
    "len(token2int)"
   ]
  },
  {
   "cell_type": "code",
   "execution_count": null,
   "metadata": {
    "id": "9JxdExR3ZWca"
   },
   "outputs": [],
   "source": [
    "# https://www.kaggle.com/c/stanford-covid-vaccine/discussion/183211\n",
    "def rmse(y_actual, y_pred):\n",
    "    mse = tf.keras.losses.mean_squared_error(y_actual, y_pred)\n",
    "    return K.sqrt(mse)\n",
    "\n",
    "def mcrmse(y_actual, y_pred, num_scored=len(target_cols)):\n",
    "    score = 0\n",
    "    for i in range(num_scored):\n",
    "        score += rmse(y_actual[:, :, i], y_pred[:, :, i]) / num_scored\n",
    "    return score"
   ]
  },
  {
   "cell_type": "code",
   "execution_count": null,
   "metadata": {},
   "outputs": [],
   "source": [
    "def gru_layer(hidden_dim, dropout):\n",
    "    return tf.keras.layers.Bidirectional(\n",
    "                                tf.keras.layers.GRU(hidden_dim,\n",
    "                                dropout=dropout,\n",
    "                                return_sequences=True,\n",
    "                                kernel_initializer='orthogonal'))\n",
    "\n",
    "def lstm_layer(hidden_dim, dropout):\n",
    "    return tf.keras.layers.Bidirectional(\n",
    "                                tf.keras.layers.LSTM(hidden_dim,\n",
    "                                dropout=dropout,\n",
    "                                return_sequences=True,\n",
    "                                kernel_initializer='orthogonal'))\n",
    "\n",
    "def build_model(rnn='gru', convolve=False, conv_dim=512, \n",
    "                dropout=.4, sp_dropout=.2, embed_dim=200,\n",
    "                hidden_dim=256, layers=3,\n",
    "                seq_len=107, pred_len=68):\n",
    "    \n",
    "###############################################\n",
    "#### Inputs\n",
    "###############################################\n",
    "\n",
    "    inputs = tf.keras.layers.Input(shape=(seq_len, 5))\n",
    "    categorical_feats = inputs[:, :, :3]\n",
    "    numerical_feats = inputs[:, :, 3:]\n",
    "\n",
    "    embed = tf.keras.layers.Embedding(input_dim=len(token2int),\n",
    "                                      output_dim=embed_dim)(categorical_feats)\n",
    "    reshaped = tf.reshape(\n",
    "        embed, shape=(-1, embed.shape[1],  embed.shape[2] * embed.shape[3]))\n",
    "    \n",
    "    reshaped = tf.keras.layers.concatenate([reshaped, numerical_feats], axis=2)\n",
    "    hidden = tf.keras.layers.SpatialDropout1D(sp_dropout)(reshaped)\n",
    "    \n",
    "    if convolve:\n",
    "        hidden = tf.keras.layers.Conv1D(conv_dim, 5, padding='same', activation=tf.keras.activations.swish)(hidden)\n",
    "\n",
    "###############################################\n",
    "#### RNN Layers\n",
    "###############################################\n",
    "\n",
    "    if rnn is 'gru':\n",
    "        for _ in range(layers):\n",
    "            hidden = gru_layer(hidden_dim, dropout)(hidden)\n",
    "        \n",
    "    elif rnn is 'lstm':\n",
    "        for _ in range(layers):\n",
    "            hidden = lstm_layer(hidden_dim, dropout)(hidden)\n",
    "\n",
    "###############################################\n",
    "#### Output\n",
    "###############################################\n",
    "\n",
    "    out = hidden[:, :pred_len]\n",
    "    out = tf.keras.layers.Dense(5, activation='linear')(out)\n",
    "    \n",
    "    model = tf.keras.Model(inputs=inputs, outputs=out)\n",
    "    adam = tf.optimizers.Adam()\n",
    "    model.compile(optimizer=adam, loss=mcrmse)\n",
    "\n",
    "    return model"
   ]
  },
  {
   "cell_type": "code",
   "execution_count": null,
   "metadata": {
    "id": "J1RrLpSTZWce",
    "outputId": "f199868a-7bef-48c7-8ffa-99aa8f84d456"
   },
   "outputs": [],
   "source": [
    "test_model = build_model(rnn='gru')\n",
    "test_model.summary()"
   ]
  },
  {
   "cell_type": "markdown",
   "metadata": {
    "id": "y4vnghHEZWcg"
   },
   "source": [
    "# KFold Training and Inference\n",
    "\n",
    "**In previous commits, I either filtered by `SN_filter == 1` or with `signal_to_noise > 1`. But it seems that these RNN models generalize better when exposed to the noisier samples in the dataset. If you review the `tf.keras` [documentation](https://www.tensorflow.org/api_docs/python/tf/keras/Model), you can see that you can pass a Numpy array of weights during training used to weight the loss function. So we can weight samples with higher `signal_to_noise` values more during training than the noisier samples. As inspired by [Tito](https://www.kaggle.com/its7171), we will pass the following array to `sample_weight`: `np.log1p(train.signal_to_noise + epsilon)/2` where epsilon is a small number to ensure we don't get `log(1)` for any weights.**\n",
    "\n",
    "**But since the competition hosts have said [here](https://www.kaggle.com/c/stanford-covid-vaccine/discussion/183992), the public and private test sets only contain samples where `SN_filter == 1`, so we ought to validate against the such samples as well:**"
   ]
  },
  {
   "cell_type": "code",
   "execution_count": null,
   "metadata": {
    "id": "hFTuf4ecZWci"
   },
   "outputs": [],
   "source": [
    "def train_and_infer(rnn, STRATIFY=True, FOLDS=4, EPOCHS=50, BATCH_SIZE=64,\n",
    "                    REPEATS=3, SEED=34, VERBOSE=2):\n",
    "\n",
    "    #get test now for OOF \n",
    "    public_df = test.query(\"seq_length == 107\").copy()\n",
    "    private_df = test.query(\"seq_length == 130\").copy()\n",
    "    private_preds = np.zeros((private_df.shape[0], 130, 5))\n",
    "    public_preds = np.zeros((public_df.shape[0], 107, 5))\n",
    "    public_inputs = preprocess_inputs(public_df)\n",
    "    private_inputs = preprocess_inputs(private_df)\n",
    "\n",
    "    #to evaluate TTA effects/post processing\n",
    "    holdouts = []\n",
    "    holdout_preds = []\n",
    "    \n",
    "    #to view learning curves\n",
    "    histories = []\n",
    "    \n",
    "    #put similar RNA in the same fold\n",
    "    gkf = GroupKFold(n_splits=FOLDS)\n",
    "    kf=KFold(n_splits=FOLDS, random_state=SEED)\n",
    "    kmeans_model = KMeans(n_clusters=200, random_state=SEED).fit(preprocess_inputs(train)[:,:,0])\n",
    "    train['cluster_id'] = kmeans_model.labels_\n",
    "\n",
    "    for _ in range(REPEATS):\n",
    "        \n",
    "        for f, (train_index, val_index) in enumerate((gkf if STRATIFY else kf).split(train,\n",
    "                train['reactivity'], train['cluster_id'] if STRATIFY else None)):\n",
    "\n",
    "            #define training callbacks\n",
    "            lr_callback = tf.keras.callbacks.ReduceLROnPlateau(patience=8, \n",
    "                                                               factor=.1,\n",
    "                                                               #min_lr=1e-5,\n",
    "                                                               verbose=VERBOSE)\n",
    "            save = tf.keras.callbacks.ModelCheckpoint(f'model-{f}.h5')\n",
    "\n",
    "            #define sample weight function\n",
    "            epsilon = .1\n",
    "            sample_weighting = np.log1p(train.iloc[train_index]['signal_to_noise'] + epsilon) / 2\n",
    "\n",
    "            #get train data\n",
    "            trn = train.iloc[train_index]\n",
    "            trn_ = preprocess_inputs(trn)\n",
    "            trn_labs = np.array(trn[target_cols].values.tolist()).transpose((0, 2, 1))\n",
    "\n",
    "            #get validation data\n",
    "            val = train.iloc[val_index]\n",
    "            val_all = preprocess_inputs(val)\n",
    "            val = val[val.SN_filter == 1]\n",
    "            val_ = preprocess_inputs(val)\n",
    "            val_labs = np.array(val[target_cols].values.tolist()).transpose((0, 2, 1))\n",
    "\n",
    "            #pre-build models for different sequence lengths\n",
    "            model = build_model(rnn=rnn)\n",
    "            model_short = build_model(rnn=rnn,seq_len=107, pred_len=107)\n",
    "            model_long = build_model(rnn=rnn,seq_len=130, pred_len=130)\n",
    "\n",
    "            #train model\n",
    "            history = model.fit(\n",
    "                trn_, trn_labs,\n",
    "                validation_data = (val_, val_labs),\n",
    "                batch_size=BATCH_SIZE,\n",
    "                epochs=EPOCHS,\n",
    "                sample_weight=sample_weighting,\n",
    "                callbacks=[save, lr_callback],\n",
    "                verbose=VERBOSE\n",
    "            )\n",
    "\n",
    "            histories.append(history)\n",
    "\n",
    "            #load best models\n",
    "            model.load_weights(f'model-{f}.h5')\n",
    "            model_short.load_weights(f'model-{f}.h5')\n",
    "            model_long.load_weights(f'model-{f}.h5')\n",
    "\n",
    "            holdouts.append(train.iloc[val_index])\n",
    "            holdout_preds.append(model.predict(val_all))\n",
    "\n",
    "            public_preds += model_short.predict(public_inputs) / (FOLDS * REPEATS)\n",
    "            private_preds += model_long.predict(private_inputs) / (FOLDS * REPEATS)\n",
    "        \n",
    "        del model, model_short, model_long\n",
    "        \n",
    "    return holdouts, holdout_preds, public_df, public_preds, private_df, private_preds, histories"
   ]
  },
  {
   "cell_type": "markdown",
   "metadata": {
    "id": "Qa2VUsFXZWcj"
   },
   "source": [
    "### GRU & LSTM"
   ]
  },
  {
   "cell_type": "code",
   "execution_count": null,
   "metadata": {
    "_kg_hide-output": true,
    "id": "GAbrgwbkZWcj",
    "outputId": "536e097d-9b03-4e2d-90f4-7a52c852fb87"
   },
   "outputs": [],
   "source": [
    "gru_holdouts, gru_holdout_preds, public_df, gru_public_preds, private_df, gru_private_preds, gru_histories = train_and_infer(rnn='gru')"
   ]
  },
  {
   "cell_type": "code",
   "execution_count": null,
   "metadata": {
    "_kg_hide-output": true,
    "id": "qPrNcxiCZWcl"
   },
   "outputs": [],
   "source": [
    "lstm_holdouts, lstm_holdout_preds, public_df, lstm_public_preds, private_df, lstm_private_preds, lstm_histories = train_and_infer(rnn='lstm')"
   ]
  },
  {
   "cell_type": "markdown",
   "metadata": {
    "id": "4UyNEy-RZWcn"
   },
   "source": [
    "### Learning Curves and Evaluation"
   ]
  },
  {
   "cell_type": "code",
   "execution_count": null,
   "metadata": {
    "_kg_hide-input": true,
    "id": "ypH_sXbwZWcn"
   },
   "outputs": [],
   "source": [
    "def plot_learning_curves(results):\n",
    "\n",
    "    fig, ax = plt.subplots(1, len(results['histories']), figsize = (20, 10))\n",
    "    \n",
    "    for i, result in enumerate(results['histories']):\n",
    "        for history in result:\n",
    "            ax[i].plot(history.history['loss'], color='C0')\n",
    "            ax[i].plot(history.history['val_loss'], color='C1')\n",
    "            ax[i].set_title(f\"{results['models'][i]}\")\n",
    "            ax[i].set_ylabel('MCRMSE')\n",
    "            ax[i].set_xlabel('Epoch')\n",
    "            ax[i].legend(['train', 'validation'], loc = 'upper right')\n",
    "            \n",
    "results = {\n",
    "            \"models\" : ['GRU', 'LSTM'],    \n",
    "            \"histories\" : [gru_histories, lstm_histories],\n",
    "            }"
   ]
  },
  {
   "cell_type": "code",
   "execution_count": null,
   "metadata": {
    "_kg_hide-input": true,
    "id": "3tSOKfjDZWcp"
   },
   "outputs": [],
   "source": [
    "#https://www.kaggle.com/xhlulu/openvaccine-simple-gru-model\n",
    "def format_predictions(test_df, test_preds, val=False):\n",
    "    preds = []\n",
    "    \n",
    "    for df, preds_ in zip(test_df, test_preds):\n",
    "        for i, uid in enumerate(df['id']):\n",
    "            single_pred = preds_[i]\n",
    "\n",
    "            single_df = pd.DataFrame(single_pred, columns=target_cols)\n",
    "            single_df['id_seqpos'] = [f'{uid}_{x}' for x in range(single_df.shape[0])]\n",
    "            if val: single_df['SN_filter'] = df[df['id'] == uid].SN_filter.values[0]\n",
    "\n",
    "            preds.append(single_df)\n",
    "    return pd.concat(preds).groupby('id_seqpos').mean().reset_index() if AUGMENT else pd.concat(preds)"
   ]
  },
  {
   "cell_type": "code",
   "execution_count": null,
   "metadata": {
    "_kg_hide-input": true,
    "id": "EdgxXKXmZWcq"
   },
   "outputs": [],
   "source": [
    "def get_error(preds):\n",
    "    val = pd.read_json('../input/stanford-covid-vaccine/train.json', lines=True)\n",
    "\n",
    "    val_data = []\n",
    "    for mol_id in val['id'].unique():\n",
    "        sample_data = val.loc[val['id'] == mol_id]\n",
    "        sample_seq_length = sample_data.seq_length.values[0]\n",
    "        for i in range(68):\n",
    "            sample_dict = {\n",
    "                           'id_seqpos' : sample_data['id'].values[0] + '_' + str(i),\n",
    "                           'reactivity_gt' : sample_data['reactivity'].values[0][i],\n",
    "                           'deg_Mg_pH10_gt' : sample_data['deg_Mg_pH10'].values[0][i],\n",
    "                           'deg_Mg_50C_gt' : sample_data['deg_Mg_50C'].values[0][i],\n",
    "                           }\n",
    "            \n",
    "            val_data.append(sample_dict)\n",
    "            \n",
    "    val_data = pd.DataFrame(val_data)\n",
    "    val_data = val_data.merge(preds, on='id_seqpos')\n",
    "\n",
    "    rmses = []\n",
    "    mses = []\n",
    "    \n",
    "    for col in ['reactivity', 'deg_Mg_pH10', 'deg_Mg_50C']:\n",
    "        rmse = ((val_data[col] - val_data[col+'_gt']) ** 2).mean() ** .5\n",
    "        mse = ((val_data[col] - val_data[col+'_gt']) ** 2).mean()\n",
    "        rmses.append(rmse)\n",
    "        mses.append(mse)\n",
    "        print(col, rmse, mse)\n",
    "    print(np.mean(rmses), np.mean(mses))\n",
    "    print('')"
   ]
  },
  {
   "cell_type": "code",
   "execution_count": null,
   "metadata": {
    "id": "F5J0D66lZWcs"
   },
   "outputs": [],
   "source": [
    "plot_learning_curves(results)"
   ]
  },
  {
   "cell_type": "code",
   "execution_count": null,
   "metadata": {
    "_kg_hide-input": true,
    "id": "olyFI1jRZWcu"
   },
   "outputs": [],
   "source": [
    "gru_val_preds = format_predictions(gru_holdouts, gru_holdout_preds, val=True)\n",
    "lstm_val_preds = format_predictions(lstm_holdouts, lstm_holdout_preds, val=True)\n",
    "\n",
    "print('-'*25); print('Unfiltered training results'); print('-'*25)\n",
    "print('GRU training results'); print('')\n",
    "get_error(gru_val_preds)\n",
    "print('LSTM training results'); print('')\n",
    "get_error(lstm_val_preds)\n",
    "print('-'*25); print('SN_filter == 1 training results'); print('-'*25)\n",
    "print('GRU training results'); print('')\n",
    "get_error(gru_val_preds[gru_val_preds['SN_filter'] == 1])\n",
    "print('LSTM training results'); print('')\n",
    "get_error(lstm_val_preds[lstm_val_preds['SN_filter'] == 1])"
   ]
  },
  {
   "cell_type": "markdown",
   "metadata": {
    "id": "qUDI6nD-ZWcw"
   },
   "source": [
    "# Submission"
   ]
  },
  {
   "cell_type": "code",
   "execution_count": null,
   "metadata": {
    "_kg_hide-input": true,
    "id": "9DUBSmXZZWcw"
   },
   "outputs": [],
   "source": [
    "gru_preds = [gru_public_preds, gru_private_preds]\n",
    "lstm_preds = [gru_public_preds, gru_private_preds]\n",
    "test_df = [public_df, private_df]\n",
    "gru_preds = format_predictions(test_df, gru_preds)\n",
    "lstm_preds = format_predictions(test_df, lstm_preds)"
   ]
  },
  {
   "cell_type": "code",
   "execution_count": null,
   "metadata": {
    "id": "-Fc_1PdGZWcy"
   },
   "outputs": [],
   "source": [
    "gru_weight = .5\n",
    "lstm_weight = .5"
   ]
  },
  {
   "cell_type": "code",
   "execution_count": null,
   "metadata": {
    "id": "cLAkDJ7GZWc1"
   },
   "outputs": [],
   "source": [
    "blended_preds = pd.DataFrame()\n",
    "blended_preds['id_seqpos'] = gru_preds['id_seqpos']\n",
    "blended_preds['reactivity'] = gru_weight*gru_preds['reactivity'] + lstm_weight*lstm_preds['reactivity']\n",
    "blended_preds['deg_Mg_pH10'] = gru_weight*gru_preds['deg_Mg_pH10'] + lstm_weight*lstm_preds['deg_Mg_pH10']\n",
    "blended_preds['deg_pH10'] = gru_weight*gru_preds['deg_pH10'] + lstm_weight*lstm_preds['deg_pH10']\n",
    "blended_preds['deg_Mg_50C'] = gru_weight*gru_preds['deg_Mg_50C'] + lstm_weight*lstm_preds['deg_Mg_50C']\n",
    "blended_preds['deg_50C'] = gru_weight*gru_preds['deg_50C'] + lstm_weight*lstm_preds['deg_50C']"
   ]
  },
  {
   "cell_type": "code",
   "execution_count": null,
   "metadata": {
    "id": "xnY9V5EyZWc2"
   },
   "outputs": [],
   "source": [
    "submission = sample_sub[['id_seqpos']].merge(blended_preds, on=['id_seqpos'])\n",
    "submission.head()"
   ]
  },
  {
   "cell_type": "code",
   "execution_count": null,
   "metadata": {
    "id": "_91GQnw8ZWc4"
   },
   "outputs": [],
   "source": [
    "submission.to_csv(f'submission_new.csv', index=False)\n",
    "print('Submission saved')"
   ]
  }
 ],
 "metadata": {
  "kernelspec": {
   "display_name": "Python 3",
   "language": "python",
   "name": "python3"
  },
  "language_info": {
   "codemirror_mode": {
    "name": "ipython",
    "version": 3
   },
   "file_extension": ".py",
   "mimetype": "text/x-python",
   "name": "python",
   "nbconvert_exporter": "python",
   "pygments_lexer": "ipython3",
   "version": "3.7.6"
  }
 },
 "nbformat": 4,
 "nbformat_minor": 4
}
